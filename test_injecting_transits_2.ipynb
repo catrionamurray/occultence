{
 "cells": [
  {
   "cell_type": "code",
   "execution_count": 1,
   "id": "c1c5a43a-cb14-4f93-84fd-466537c42767",
   "metadata": {},
   "outputs": [],
   "source": [
    "from occultence import *\n",
    "import time"
   ]
  },
  {
   "cell_type": "code",
   "execution_count": 2,
   "id": "c4bddb4a",
   "metadata": {},
   "outputs": [],
   "source": [
    "def binning(x, y, bins, error=None, std=False, mean_method=np.mean,\n",
    "            mean_error_method=lambda x: np.sqrt(np.sum(np.power(x, 2))) / len(x)):\n",
    "\n",
    "    bins = np.arange(np.min(x), np.max(x), bins)\n",
    "    d = np.digitize(x, bins)\n",
    "\n",
    "    final_bins = []\n",
    "    binned_flux = []\n",
    "    binned_error = []\n",
    "    _std = []\n",
    "\n",
    "    for i in range(1, np.max(d) + 1):\n",
    "        s = np.where(d == i)\n",
    "        if len(s[0]) > 0:\n",
    "            binned_flux.append(mean_method(y[s[0]]))\n",
    "            final_bins.append(np.mean(x[s[0]]))\n",
    "            _std.append(np.std(y[s[0]]) / np.sqrt(len(s[0])))\n",
    "            if error is not None:\n",
    "                binned_error.append(mean_error_method(error[s[0]]))\n",
    "\n",
    "    if std:\n",
    "        return np.array(final_bins), np.array(binned_flux), np.array(_std)\n",
    "    elif error is not None and isinstance(error, (np.ndarray, list)):\n",
    "        return np.array(final_bins), np.array(binned_flux), np.array(binned_error)\n",
    "    else:\n",
    "        return np.array(final_bins), np.array(binned_flux)"
   ]
  },
  {
   "cell_type": "code",
   "execution_count": null,
   "id": "ae1defdf",
   "metadata": {},
   "outputs": [],
   "source": []
  },
  {
   "cell_type": "code",
   "execution_count": null,
   "id": "42118c17",
   "metadata": {},
   "outputs": [],
   "source": []
  },
  {
   "cell_type": "code",
   "execution_count": 3,
   "id": "133fe0f2-2243-4099-ae77-aa15abe9ba0e",
   "metadata": {},
   "outputs": [
    {
     "name": "stdout",
     "output_type": "stream",
     "text": [
      "nr of measurements: 9372\n",
      "nr of measurements after binning: 1576\n"
     ]
    },
    {
     "data": {
      "text/plain": [
       "(0.98, 1.02)"
      ]
     },
     "execution_count": 3,
     "metadata": {},
     "output_type": "execute_result"
    },
    {
     "data": {
      "image/png": "[encoded data removed]",
      "text/plain": [
       "<Figure size 864x288 with 1 Axes>"
      ]
     },
     "metadata": {
      "needs_background": "light"
     },
     "output_type": "display_data"
    }
   ],
   "source": [
    "test_case = False\n",
    "pre_bin = True\n",
    "\n",
    "\n",
    "if test_case:\n",
    "\n",
    "    t = np.linspace(0.5,0.9,200)\n",
    "    ferr = 1e-3 * np.ones(len(t))\n",
    "    f = 1 + (ferr * (np.random.randn(len(t))))\n",
    "    f[22] = 1.01 # add a cosmic\n",
    "    f[63] = 1.008 # add a cosmic\n",
    "    f[50] = 0.0 # add a zero flux point\n",
    "    # f[100:120] *= 0.995 # add a transit\n",
    "    f *= np.linspace(1,1.01, len(t)) # add a linear trend for the GP to remove\n",
    "    \n",
    "else:\n",
    "    file_path = \"/Users/fl386/Desktop/SPECULOOS_project/zooniverse/data\"\n",
    "    files = glob.glob(file_path+\"/*\")\n",
    "\n",
    "    i = 10\n",
    "    file_name = files[i]\n",
    "    gaia_id = file_name.split(\"/\")[-1].replace(\".csv\",\"\")\n",
    "\n",
    "    data = pd.read_csv(file_name)\n",
    "\n",
    "    mask = (~np.isnan(data[\"diff_flux_use\"])) & (~np.isnan(data[\"diff_error\"])) & (data[\"diff_error\"]>0)\n",
    "    data = data[mask]\n",
    "    data.reset_index(drop = True, inplace = True)\n",
    "\n",
    "    t = data[\"bjd\"].values\n",
    "    f = data[\"diff_flux_use\"].values\n",
    "    ferr = data[\"diff_error\"].values\n",
    "    print(f\"nr of measurements: {len(t)}\")\n",
    "    if pre_bin:\n",
    "        blc = binning(t, f, bins=0.005, error=ferr, std=True)\n",
    "        t,f,ferr = blc\n",
    "        print(f\"nr of measurements after binning: {len(t)}\")\n",
    "\n",
    "    \n",
    "    #just here:\n",
    "    #t = t.min() + np.median(t[1:]-t[:-1])*np.arange(len(t))\n",
    "    \n",
    "plt.figure(figsize=(12,4))\n",
    "plt.errorbar(t,f,ferr,fmt='k.')\n",
    "plt.ylim(0.98,1.02)"
   ]
  },
  {
   "cell_type": "code",
   "execution_count": 4,
   "id": "939a4120-fdf2-484c-9c82-508205e9feaf",
   "metadata": {},
   "outputs": [],
   "source": [
    "targ = LightCurve(name = \"test\",\n",
    "                  time = t,\n",
    "                  flux = f,\n",
    "                  uncertainty = np.abs(ferr),\n",
    "                  metadata={'R_star':0.1*u.R_sun, 'M_star':0.1*u.M_sun})"
   ]
  },
  {
   "cell_type": "code",
   "execution_count": 5,
   "id": "b2d333bc-ebea-4cd1-aac7-363b58946d44",
   "metadata": {},
   "outputs": [],
   "source": [
    "targ_with_transit = targ.inject_transit(per=5*u.d, epoch=0.7 * u.d, inc=90 * u.degree, rp=1 * u.R_earth, ld=[0.3,0.3])"
   ]
  },
  {
   "cell_type": "code",
   "execution_count": null,
   "id": "c6e53c85-cf19-4fe6-8824-7b288942e195",
   "metadata": {},
   "outputs": [],
   "source": []
  },
  {
   "cell_type": "code",
   "execution_count": 6,
   "id": "1d264a91-1310-45b0-ae81-d4526ce76587",
   "metadata": {},
   "outputs": [
    {
     "name": "stderr",
     "output_type": "stream",
     "text": [
      "No artists with labels found to put in legend.  Note that artists whose label start with an underscore are ignored when legend() is called with no argument.\n",
      "No artists with labels found to put in legend.  Note that artists whose label start with an underscore are ignored when legend() is called with no argument.\n"
     ]
    },
    {
     "data": {
      "text/plain": [
       "<Axes: xlabel='Time [d]', ylabel='Flux'>"
      ]
     },
     "execution_count": 6,
     "metadata": {},
     "output_type": "execute_result"
    },
    {
     "data": {
      "image/png": "[encoded data removed]",
      "text/plain": [
       "<Figure size 864x288 with 1 Axes>"
      ]
     },
     "metadata": {
      "needs_background": "light"
     },
     "output_type": "display_data"
    }
   ],
   "source": [
    "ax=targ.plot()\n",
    "targ_with_transit.plot(ax=ax)"
   ]
  },
  {
   "cell_type": "code",
   "execution_count": 7,
   "id": "2cdef677-7f20-4f60-87bd-cd855bd2a798",
   "metadata": {},
   "outputs": [
    {
     "data": {
      "text/plain": [
       "{'name': 'test_inject',\n",
       " 'target': 'test',\n",
       " 'R_star': <Quantity 0.1 solRad>,\n",
       " 'M_star': <Quantity 0.1 solMass>,\n",
       " 'injected_planet': {'period': [<Quantity 5. d>],\n",
       "  'epoch': [<Quantity 0.7 d>],\n",
       "  'inc': [<Quantity 90. deg>],\n",
       "  'rp': [<Quantity 1. earthRad>],\n",
       "  'a': [<Quantity 5.71151244 solRad>],\n",
       "  'a_Rs': [<Quantity 57.11512439>],\n",
       "  'ld': [[0.3, 0.3]],\n",
       "  'depth': [<Quantity 0.00840502>],\n",
       "  'duration': [<Quantity 0.03042218 d>]}}"
      ]
     },
     "execution_count": 7,
     "metadata": {},
     "output_type": "execute_result"
    }
   ],
   "source": [
    "targ_with_transit.metadata"
   ]
  },
  {
   "cell_type": "code",
   "execution_count": 8,
   "id": "6e307b81-a26e-445a-98e7-f60530dc947e",
   "metadata": {},
   "outputs": [],
   "source": [
    "planets = targ_with_transit.create_lots_of_transit_params(nfake=100, \n",
    "                                                          minimum_planet_radius=1 * u.R_earth, maximum_planet_radius=3 * u.R_earth,\n",
    "                                                          minimum_period=0.5 * u.d, maximum_period=4 * u.d,)"
   ]
  },
  {
   "cell_type": "code",
   "execution_count": 9,
   "id": "1a4fed9f-dce9-46d8-ab3c-db4feda0e2d2",
   "metadata": {},
   "outputs": [
    {
     "data": {
      "text/html": [
       "<div>\n",
       "<style scoped>\n",
       "    .dataframe tbody tr th:only-of-type {\n",
       "        vertical-align: middle;\n",
       "    }\n",
       "\n",
       "    .dataframe tbody tr th {\n",
       "        vertical-align: top;\n",
       "    }\n",
       "\n",
       "    .dataframe thead th {\n",
       "        text-align: right;\n",
       "    }\n",
       "</style>\n",
       "<table border=\"1\" class=\"dataframe\">\n",
       "  <thead>\n",
       "    <tr style=\"text-align: right;\">\n",
       "      <th></th>\n",
       "      <th>logP</th>\n",
       "      <th>phase</th>\n",
       "      <th>cosi</th>\n",
       "      <th>r_p</th>\n",
       "      <th>depth</th>\n",
       "      <th>duration</th>\n",
       "      <th>epoch</th>\n",
       "      <th>a</th>\n",
       "      <th>a_Rs</th>\n",
       "      <th>recovered</th>\n",
       "      <th>...</th>\n",
       "      <th>rec_depth</th>\n",
       "      <th>rec_duration</th>\n",
       "      <th>rec_epoch</th>\n",
       "      <th>run</th>\n",
       "      <th>snr</th>\n",
       "      <th>target</th>\n",
       "      <th>r_s</th>\n",
       "      <th>m_s</th>\n",
       "      <th>teff</th>\n",
       "      <th>spt</th>\n",
       "    </tr>\n",
       "  </thead>\n",
       "  <tbody>\n",
       "    <tr>\n",
       "      <th>0</th>\n",
       "      <td>0.582095</td>\n",
       "      <td>0.820037</td>\n",
       "      <td>0.000088</td>\n",
       "      <td>2.285344</td>\n",
       "      <td>0.043897688451897385</td>\n",
       "      <td>0.030815</td>\n",
       "      <td>2.458506e+06</td>\n",
       "      <td>4.773470050958038 solRad</td>\n",
       "      <td>47.734700509580385</td>\n",
       "      <td>0.0</td>\n",
       "      <td>...</td>\n",
       "      <td>0.0</td>\n",
       "      <td>0.0</td>\n",
       "      <td>0.0</td>\n",
       "      <td>0.0</td>\n",
       "      <td>0.0</td>\n",
       "      <td>test_inject</td>\n",
       "      <td>0.1 solRad</td>\n",
       "      <td>0.1 solMass</td>\n",
       "      <td>None</td>\n",
       "      <td>None</td>\n",
       "    </tr>\n",
       "    <tr>\n",
       "      <th>1</th>\n",
       "      <td>0.412553</td>\n",
       "      <td>0.562567</td>\n",
       "      <td>0.000622</td>\n",
       "      <td>1.564536</td>\n",
       "      <td>0.02057357106477962</td>\n",
       "      <td>0.025574</td>\n",
       "      <td>2.458504e+06</td>\n",
       "      <td>3.6796513193945497 solRad</td>\n",
       "      <td>36.79651319394549</td>\n",
       "      <td>0.0</td>\n",
       "      <td>...</td>\n",
       "      <td>0.0</td>\n",
       "      <td>0.0</td>\n",
       "      <td>0.0</td>\n",
       "      <td>0.0</td>\n",
       "      <td>0.0</td>\n",
       "      <td>test_inject</td>\n",
       "      <td>0.1 solRad</td>\n",
       "      <td>0.1 solMass</td>\n",
       "      <td>None</td>\n",
       "      <td>None</td>\n",
       "    </tr>\n",
       "    <tr>\n",
       "      <th>2</th>\n",
       "      <td>0.489520</td>\n",
       "      <td>0.172123</td>\n",
       "      <td>0.000323</td>\n",
       "      <td>1.136384</td>\n",
       "      <td>0.010853979603330436</td>\n",
       "      <td>0.026201</td>\n",
       "      <td>2.458503e+06</td>\n",
       "      <td>4.1411208804551665 solRad</td>\n",
       "      <td>41.41120880455166</td>\n",
       "      <td>0.0</td>\n",
       "      <td>...</td>\n",
       "      <td>0.0</td>\n",
       "      <td>0.0</td>\n",
       "      <td>0.0</td>\n",
       "      <td>0.0</td>\n",
       "      <td>0.0</td>\n",
       "      <td>test_inject</td>\n",
       "      <td>0.1 solRad</td>\n",
       "      <td>0.1 solMass</td>\n",
       "      <td>None</td>\n",
       "      <td>None</td>\n",
       "    </tr>\n",
       "    <tr>\n",
       "      <th>3</th>\n",
       "      <td>0.309384</td>\n",
       "      <td>0.018643</td>\n",
       "      <td>0.000653</td>\n",
       "      <td>1.865569</td>\n",
       "      <td>0.029252372849054638</td>\n",
       "      <td>0.024200</td>\n",
       "      <td>2.458503e+06</td>\n",
       "      <td>3.14070717097885 solRad</td>\n",
       "      <td>31.4070717097885</td>\n",
       "      <td>0.0</td>\n",
       "      <td>...</td>\n",
       "      <td>0.0</td>\n",
       "      <td>0.0</td>\n",
       "      <td>0.0</td>\n",
       "      <td>0.0</td>\n",
       "      <td>0.0</td>\n",
       "      <td>test_inject</td>\n",
       "      <td>0.1 solRad</td>\n",
       "      <td>0.1 solMass</td>\n",
       "      <td>None</td>\n",
       "      <td>None</td>\n",
       "    </tr>\n",
       "    <tr>\n",
       "      <th>4</th>\n",
       "      <td>0.261604</td>\n",
       "      <td>0.176669</td>\n",
       "      <td>0.002608</td>\n",
       "      <td>2.068496</td>\n",
       "      <td>0.03596233963131136</td>\n",
       "      <td>0.023655</td>\n",
       "      <td>2.458503e+06</td>\n",
       "      <td>2.9185962770055944 solRad</td>\n",
       "      <td>29.18596277005594</td>\n",
       "      <td>0.0</td>\n",
       "      <td>...</td>\n",
       "      <td>0.0</td>\n",
       "      <td>0.0</td>\n",
       "      <td>0.0</td>\n",
       "      <td>0.0</td>\n",
       "      <td>0.0</td>\n",
       "      <td>test_inject</td>\n",
       "      <td>0.1 solRad</td>\n",
       "      <td>0.1 solMass</td>\n",
       "      <td>None</td>\n",
       "      <td>None</td>\n",
       "    </tr>\n",
       "    <tr>\n",
       "      <th>...</th>\n",
       "      <td>...</td>\n",
       "      <td>...</td>\n",
       "      <td>...</td>\n",
       "      <td>...</td>\n",
       "      <td>...</td>\n",
       "      <td>...</td>\n",
       "      <td>...</td>\n",
       "      <td>...</td>\n",
       "      <td>...</td>\n",
       "      <td>...</td>\n",
       "      <td>...</td>\n",
       "      <td>...</td>\n",
       "      <td>...</td>\n",
       "      <td>...</td>\n",
       "      <td>...</td>\n",
       "      <td>...</td>\n",
       "      <td>...</td>\n",
       "      <td>...</td>\n",
       "      <td>...</td>\n",
       "      <td>...</td>\n",
       "      <td>...</td>\n",
       "    </tr>\n",
       "    <tr>\n",
       "      <th>95</th>\n",
       "      <td>0.595225</td>\n",
       "      <td>0.290311</td>\n",
       "      <td>0.000082</td>\n",
       "      <td>1.870487</td>\n",
       "      <td>0.029406807286057355</td>\n",
       "      <td>0.030148</td>\n",
       "      <td>2.458504e+06</td>\n",
       "      <td>4.870662681701168 solRad</td>\n",
       "      <td>48.706626817011674</td>\n",
       "      <td>0.0</td>\n",
       "      <td>...</td>\n",
       "      <td>0.0</td>\n",
       "      <td>0.0</td>\n",
       "      <td>0.0</td>\n",
       "      <td>0.0</td>\n",
       "      <td>0.0</td>\n",
       "      <td>test_inject</td>\n",
       "      <td>0.1 solRad</td>\n",
       "      <td>0.1 solMass</td>\n",
       "      <td>None</td>\n",
       "      <td>None</td>\n",
       "    </tr>\n",
       "    <tr>\n",
       "      <th>96</th>\n",
       "      <td>-0.057540</td>\n",
       "      <td>0.532382</td>\n",
       "      <td>0.002307</td>\n",
       "      <td>2.903120</td>\n",
       "      <td>0.0708383957714913</td>\n",
       "      <td>0.019748</td>\n",
       "      <td>2.458503e+06</td>\n",
       "      <td>1.7881804266381582 solRad</td>\n",
       "      <td>17.881804266381582</td>\n",
       "      <td>0.0</td>\n",
       "      <td>...</td>\n",
       "      <td>0.0</td>\n",
       "      <td>0.0</td>\n",
       "      <td>0.0</td>\n",
       "      <td>0.0</td>\n",
       "      <td>0.0</td>\n",
       "      <td>test_inject</td>\n",
       "      <td>0.1 solRad</td>\n",
       "      <td>0.1 solMass</td>\n",
       "      <td>None</td>\n",
       "      <td>None</td>\n",
       "    </tr>\n",
       "    <tr>\n",
       "      <th>97</th>\n",
       "      <td>0.467282</td>\n",
       "      <td>0.658043</td>\n",
       "      <td>0.000471</td>\n",
       "      <td>1.448253</td>\n",
       "      <td>0.017629004174314556</td>\n",
       "      <td>0.026423</td>\n",
       "      <td>2.458504e+06</td>\n",
       "      <td>4.00214210449325 solRad</td>\n",
       "      <td>40.021421044932495</td>\n",
       "      <td>0.0</td>\n",
       "      <td>...</td>\n",
       "      <td>0.0</td>\n",
       "      <td>0.0</td>\n",
       "      <td>0.0</td>\n",
       "      <td>0.0</td>\n",
       "      <td>0.0</td>\n",
       "      <td>test_inject</td>\n",
       "      <td>0.1 solRad</td>\n",
       "      <td>0.1 solMass</td>\n",
       "      <td>None</td>\n",
       "      <td>None</td>\n",
       "    </tr>\n",
       "    <tr>\n",
       "      <th>98</th>\n",
       "      <td>0.326214</td>\n",
       "      <td>0.520138</td>\n",
       "      <td>0.000800</td>\n",
       "      <td>2.155368</td>\n",
       "      <td>0.03904645321966253</td>\n",
       "      <td>0.025069</td>\n",
       "      <td>2.458504e+06</td>\n",
       "      <td>3.222902989184992 solRad</td>\n",
       "      <td>32.22902989184992</td>\n",
       "      <td>0.0</td>\n",
       "      <td>...</td>\n",
       "      <td>0.0</td>\n",
       "      <td>0.0</td>\n",
       "      <td>0.0</td>\n",
       "      <td>0.0</td>\n",
       "      <td>0.0</td>\n",
       "      <td>test_inject</td>\n",
       "      <td>0.1 solRad</td>\n",
       "      <td>0.1 solMass</td>\n",
       "      <td>None</td>\n",
       "      <td>None</td>\n",
       "    </tr>\n",
       "    <tr>\n",
       "      <th>99</th>\n",
       "      <td>0.420117</td>\n",
       "      <td>0.562612</td>\n",
       "      <td>0.000882</td>\n",
       "      <td>2.492304</td>\n",
       "      <td>0.0522084171548491</td>\n",
       "      <td>0.027632</td>\n",
       "      <td>2.458504e+06</td>\n",
       "      <td>3.722624772327519 solRad</td>\n",
       "      <td>37.226247723275186</td>\n",
       "      <td>0.0</td>\n",
       "      <td>...</td>\n",
       "      <td>0.0</td>\n",
       "      <td>0.0</td>\n",
       "      <td>0.0</td>\n",
       "      <td>0.0</td>\n",
       "      <td>0.0</td>\n",
       "      <td>test_inject</td>\n",
       "      <td>0.1 solRad</td>\n",
       "      <td>0.1 solMass</td>\n",
       "      <td>None</td>\n",
       "      <td>None</td>\n",
       "    </tr>\n",
       "  </tbody>\n",
       "</table>\n",
       "<p>100 rows × 22 columns</p>\n",
       "</div>"
      ],
      "text/plain": [
       "        logP     phase      cosi       r_p                 depth  duration  \\\n",
       "0   0.582095  0.820037  0.000088  2.285344  0.043897688451897385  0.030815   \n",
       "1   0.412553  0.562567  0.000622  1.564536   0.02057357106477962  0.025574   \n",
       "2   0.489520  0.172123  0.000323  1.136384  0.010853979603330436  0.026201   \n",
       "3   0.309384  0.018643  0.000653  1.865569  0.029252372849054638  0.024200   \n",
       "4   0.261604  0.176669  0.002608  2.068496   0.03596233963131136  0.023655   \n",
       "..       ...       ...       ...       ...                   ...       ...   \n",
       "95  0.595225  0.290311  0.000082  1.870487  0.029406807286057355  0.030148   \n",
       "96 -0.057540  0.532382  0.002307  2.903120    0.0708383957714913  0.019748   \n",
       "97  0.467282  0.658043  0.000471  1.448253  0.017629004174314556  0.026423   \n",
       "98  0.326214  0.520138  0.000800  2.155368   0.03904645321966253  0.025069   \n",
       "99  0.420117  0.562612  0.000882  2.492304    0.0522084171548491  0.027632   \n",
       "\n",
       "           epoch                          a                a_Rs  recovered  \\\n",
       "0   2.458506e+06   4.773470050958038 solRad  47.734700509580385        0.0   \n",
       "1   2.458504e+06  3.6796513193945497 solRad   36.79651319394549        0.0   \n",
       "2   2.458503e+06  4.1411208804551665 solRad   41.41120880455166        0.0   \n",
       "3   2.458503e+06    3.14070717097885 solRad    31.4070717097885        0.0   \n",
       "4   2.458503e+06  2.9185962770055944 solRad   29.18596277005594        0.0   \n",
       "..           ...                        ...                 ...        ...   \n",
       "95  2.458504e+06   4.870662681701168 solRad  48.706626817011674        0.0   \n",
       "96  2.458503e+06  1.7881804266381582 solRad  17.881804266381582        0.0   \n",
       "97  2.458504e+06    4.00214210449325 solRad  40.021421044932495        0.0   \n",
       "98  2.458504e+06   3.222902989184992 solRad   32.22902989184992        0.0   \n",
       "99  2.458504e+06   3.722624772327519 solRad  37.226247723275186        0.0   \n",
       "\n",
       "    ...  rec_depth  rec_duration  rec_epoch  run  snr       target  \\\n",
       "0   ...        0.0           0.0        0.0  0.0  0.0  test_inject   \n",
       "1   ...        0.0           0.0        0.0  0.0  0.0  test_inject   \n",
       "2   ...        0.0           0.0        0.0  0.0  0.0  test_inject   \n",
       "3   ...        0.0           0.0        0.0  0.0  0.0  test_inject   \n",
       "4   ...        0.0           0.0        0.0  0.0  0.0  test_inject   \n",
       "..  ...        ...           ...        ...  ...  ...          ...   \n",
       "95  ...        0.0           0.0        0.0  0.0  0.0  test_inject   \n",
       "96  ...        0.0           0.0        0.0  0.0  0.0  test_inject   \n",
       "97  ...        0.0           0.0        0.0  0.0  0.0  test_inject   \n",
       "98  ...        0.0           0.0        0.0  0.0  0.0  test_inject   \n",
       "99  ...        0.0           0.0        0.0  0.0  0.0  test_inject   \n",
       "\n",
       "           r_s          m_s  teff   spt  \n",
       "0   0.1 solRad  0.1 solMass  None  None  \n",
       "1   0.1 solRad  0.1 solMass  None  None  \n",
       "2   0.1 solRad  0.1 solMass  None  None  \n",
       "3   0.1 solRad  0.1 solMass  None  None  \n",
       "4   0.1 solRad  0.1 solMass  None  None  \n",
       "..         ...          ...   ...   ...  \n",
       "95  0.1 solRad  0.1 solMass  None  None  \n",
       "96  0.1 solRad  0.1 solMass  None  None  \n",
       "97  0.1 solRad  0.1 solMass  None  None  \n",
       "98  0.1 solRad  0.1 solMass  None  None  \n",
       "99  0.1 solRad  0.1 solMass  None  None  \n",
       "\n",
       "[100 rows x 22 columns]"
      ]
     },
     "execution_count": 9,
     "metadata": {},
     "output_type": "execute_result"
    }
   ],
   "source": [
    "planets"
   ]
  },
  {
   "cell_type": "code",
   "execution_count": 10,
   "id": "f6d96603-7c3e-496f-9dce-17267a24f3a4",
   "metadata": {
    "scrolled": true,
    "tags": []
   },
   "outputs": [
    {
     "name": "stdout",
     "output_type": "stream",
     "text": [
      "3 seconds\n"
     ]
    }
   ],
   "source": [
    "time_start = time.time()\n",
    "lcs, lcs_clean, lcs_gp, lcs_bls, planets_df = targ.full_injection_recovery(nfake=1, pool=False, minimum_planet_radius=1 * u.R_earth, maximum_planet_radius=4 * u.R_earth,\n",
    "                                       minimum_period=0.5 * u.d, maximum_period=4 * u.d, recovery_kw = {'condition_on_epoch':1 * u.hour}, \n",
    "                                       verbose=False)\n",
    "print(int(time.time()-time_start),\"seconds\")"
   ]
  },
  {
   "cell_type": "code",
   "execution_count": null,
   "id": "312a071b-0d87-49ad-b852-687d0f9a1a85",
   "metadata": {},
   "outputs": [],
   "source": []
  },
  {
   "cell_type": "code",
   "execution_count": null,
   "id": "a20e03ed",
   "metadata": {},
   "outputs": [],
   "source": [
    "import cProfile\n",
    "cProfile.run('targ.full_injection_recovery(nfake=1, pool=False, minimum_planet_radius=1 * u.R_earth, maximum_planet_radius=4 * u.R_earth,minimum_period=0.5 * u.d, maximum_period=4 * u.d, recovery_kw = {\"condition_on_epoch\":1 * u.hour}, verbose=False)',sort=\"cumtime\")"
   ]
  },
  {
   "cell_type": "code",
   "execution_count": null,
   "id": "a6df1df1",
   "metadata": {},
   "outputs": [],
   "source": []
  },
  {
   "cell_type": "code",
   "execution_count": null,
   "id": "cdaf631b",
   "metadata": {},
   "outputs": [],
   "source": []
  },
  {
   "cell_type": "code",
   "execution_count": 10,
   "id": "ca9e5ec2-44ca-4069-ae34-b2c408e7220c",
   "metadata": {},
   "outputs": [
    {
     "data": {
      "text/html": [
       "<div>\n",
       "<style scoped>\n",
       "    .dataframe tbody tr th:only-of-type {\n",
       "        vertical-align: middle;\n",
       "    }\n",
       "\n",
       "    .dataframe tbody tr th {\n",
       "        vertical-align: top;\n",
       "    }\n",
       "\n",
       "    .dataframe thead th {\n",
       "        text-align: right;\n",
       "    }\n",
       "</style>\n",
       "<table border=\"1\" class=\"dataframe\">\n",
       "  <thead>\n",
       "    <tr style=\"text-align: right;\">\n",
       "      <th></th>\n",
       "      <th>logP</th>\n",
       "      <th>phase</th>\n",
       "      <th>cosi</th>\n",
       "      <th>r_p</th>\n",
       "      <th>depth</th>\n",
       "      <th>duration</th>\n",
       "      <th>epoch</th>\n",
       "      <th>a</th>\n",
       "      <th>a_Rs</th>\n",
       "      <th>recovered</th>\n",
       "      <th>...</th>\n",
       "      <th>rec_depth</th>\n",
       "      <th>rec_duration</th>\n",
       "      <th>rec_epoch</th>\n",
       "      <th>run</th>\n",
       "      <th>snr</th>\n",
       "      <th>target</th>\n",
       "      <th>r_s</th>\n",
       "      <th>m_s</th>\n",
       "      <th>teff</th>\n",
       "      <th>spt</th>\n",
       "    </tr>\n",
       "  </thead>\n",
       "  <tbody>\n",
       "    <tr>\n",
       "      <th>0</th>\n",
       "      <td>0.222567</td>\n",
       "      <td>0.917398</td>\n",
       "      <td>0.001236</td>\n",
       "      <td>1.730222</td>\n",
       "      <td>0.025161830987586096</td>\n",
       "      <td>0.022395</td>\n",
       "      <td>2.458504e+06</td>\n",
       "      <td>2.748836202811285 solRad</td>\n",
       "      <td>27.488362028112846</td>\n",
       "      <td>1.0</td>\n",
       "      <td>...</td>\n",
       "      <td>0.024599</td>\n",
       "      <td>0.02</td>\n",
       "      <td>2.459219e+06</td>\n",
       "      <td>0.0</td>\n",
       "      <td>10.525889</td>\n",
       "      <td>test</td>\n",
       "      <td>0.1 solRad</td>\n",
       "      <td>0.1 solMass</td>\n",
       "      <td>None</td>\n",
       "      <td>None</td>\n",
       "    </tr>\n",
       "  </tbody>\n",
       "</table>\n",
       "<p>1 rows × 22 columns</p>\n",
       "</div>"
      ],
      "text/plain": [
       "       logP     phase      cosi       r_p                 depth  duration  \\\n",
       "0  0.222567  0.917398  0.001236  1.730222  0.025161830987586096  0.022395   \n",
       "\n",
       "          epoch                         a                a_Rs  recovered  ...  \\\n",
       "0  2.458504e+06  2.748836202811285 solRad  27.488362028112846        1.0  ...   \n",
       "\n",
       "   rec_depth  rec_duration     rec_epoch  run        snr  target         r_s  \\\n",
       "0   0.024599          0.02  2.459219e+06  0.0  10.525889    test  0.1 solRad   \n",
       "\n",
       "           m_s  teff   spt  \n",
       "0  0.1 solMass  None  None  \n",
       "\n",
       "[1 rows x 22 columns]"
      ]
     },
     "execution_count": 10,
     "metadata": {},
     "output_type": "execute_result"
    }
   ],
   "source": [
    "planets_df"
   ]
  },
  {
   "cell_type": "code",
   "execution_count": 11,
   "id": "5acd4d0d-b2d0-458c-8d46-196bde867b0f",
   "metadata": {},
   "outputs": [],
   "source": [
    "#planets_df.loc[0]"
   ]
  },
  {
   "cell_type": "code",
   "execution_count": null,
   "id": "4a64936c-46df-46f3-9282-214860e76091",
   "metadata": {},
   "outputs": [],
   "source": []
  },
  {
   "cell_type": "code",
   "execution_count": null,
   "id": "bfbeae09-99f4-4153-a6d6-afd7923a8d6f",
   "metadata": {},
   "outputs": [],
   "source": []
  },
  {
   "cell_type": "code",
   "execution_count": 12,
   "id": "d06441fb-9aac-4c3f-b463-025d7e3a2df3",
   "metadata": {},
   "outputs": [
    {
     "data": {
      "text/plain": [
       "({'name': 'test_inject0',\n",
       "  'target': 'test',\n",
       "  'R_star': <Quantity 0.1 solRad>,\n",
       "  'M_star': <Quantity 0.1 solMass>,\n",
       "  'injected_planet': {'period': [<Quantity 2.44030583 d>],\n",
       "   'epoch': [<Quantity 2458504.33876103 d>],\n",
       "   'inc': [<Quantity 1.57059076 rad>],\n",
       "   'rp': [<Quantity 3.5076038 earthRad>],\n",
       "   'a': [<Quantity 3.54052199 solRad>],\n",
       "   'a_Rs': [<Quantity 35.40521987>],\n",
       "   'ld': [[0.385, 0.304]],\n",
       "   'depth': [<Quantity 0.10340933>],\n",
       "   'duration': [<Quantity 0.02900098 d>]},\n",
       "  'thresholds': {}},\n",
       " {'name': 'test_inject0_clean_bin_bls',\n",
       "  'target': 'test',\n",
       "  'R_star': <Quantity 0.1 solRad>,\n",
       "  'M_star': <Quantity 0.1 solMass>,\n",
       "  'injected_planet': {'period': [<Quantity 2.44030583 d>],\n",
       "   'epoch': [<Quantity 2458504.33876103 d>],\n",
       "   'inc': [<Quantity 1.57059076 rad>],\n",
       "   'rp': [<Quantity 3.5076038 earthRad>],\n",
       "   'a': [<Quantity 3.54052199 solRad>],\n",
       "   'a_Rs': [<Quantity 35.40521987>],\n",
       "   'ld': [[0.385, 0.304]],\n",
       "   'depth': [<Quantity 0.10340933>],\n",
       "   'duration': [<Quantity 0.02900098 d>]},\n",
       "  'thresholds': {},\n",
       "  'BLS_transits_found': True,\n",
       "  'BLS_transits_ind': array([ 825,  826,  827,  828, 1399]),\n",
       "  'BLS_transits_params': {'period': [<Quantity 8.05610561 d>,\n",
       "    <Quantity 8.05610561 d>],\n",
       "   'depth': [0.10456536787219683, 0.10456536787219683],\n",
       "   'duration': [<Quantity 0.02 d>, <Quantity 0.02 d>],\n",
       "   'epoch': [<Time object: scale='tdb' format='jd' value=2459248.6319150897>,\n",
       "    <Time object: scale='tdb' format='jd' value=2459949.5131032085>],\n",
       "   'epoch_start': [<Time object: scale='tdb' format='jd' value=2459248.62191509>,\n",
       "    <Time object: scale='tdb' format='jd' value=2459949.5031032087>],\n",
       "   'epoch_end': [<Time object: scale='tdb' format='jd' value=2459248.64191509>,\n",
       "    <Time object: scale='tdb' format='jd' value=2459949.5231032087>],\n",
       "   'snr': [51.66479771271084, 25.83239885635542]}})"
      ]
     },
     "execution_count": 12,
     "metadata": {},
     "output_type": "execute_result"
    }
   ],
   "source": [
    "lcs[0].metadata, lcs_bls[0].metadata"
   ]
  },
  {
   "cell_type": "code",
   "execution_count": 16,
   "id": "3cc2ae73-064b-46d7-bff5-b71df58c22cc",
   "metadata": {},
   "outputs": [
    {
     "name": "stderr",
     "output_type": "stream",
     "text": [
      "No artists with labels found to put in legend.  Note that artists whose label start with an underscore are ignored when legend() is called with no argument.\n",
      "No artists with labels found to put in legend.  Note that artists whose label start with an underscore are ignored when legend() is called with no argument.\n",
      "No artists with labels found to put in legend.  Note that artists whose label start with an underscore are ignored when legend() is called with no argument.\n"
     ]
    },
    {
     "data": {
      "text/plain": [
       "<matplotlib.legend.Legend at 0x50a18ef10>"
      ]
     },
     "execution_count": 16,
     "metadata": {},
     "output_type": "execute_result"
    },
    {
     "data": {
      "image/png": "[encoded data removed]",
      "text/plain": [
       "<Figure size 864x288 with 1 Axes>"
      ]
     },
     "metadata": {
      "needs_background": "light"
     },
     "output_type": "display_data"
    }
   ],
   "source": [
    "ax=targ.plot()\n",
    "for i, lc in enumerate(lcs):\n",
    "    #lc.plot(ax=ax, label=i, ylims=[0.9,1.1])\n",
    "    lc.plot(ax=ax, ylims=[0.9,1.1])\n",
    "    break\n",
    "\n",
    "plt.legend()"
   ]
  },
  {
   "cell_type": "markdown",
   "id": "fb308415-6bf3-4e2f-8ea3-04007574d184",
   "metadata": {},
   "source": [
    "For whatever reason the pooling doesn't seem to work in Jupyter on my computer...?"
   ]
  },
  {
   "cell_type": "code",
   "execution_count": 14,
   "id": "ff98898c-9eca-4253-8b44-40caaddc501d",
   "metadata": {},
   "outputs": [],
   "source": [
    "# pool = mp.Pool(5)\n",
    "# lcs = pool.starmap(inject_transit, [(targ, (10**logp) * u.d, phase * 10**logp * u.d, math.acos(cosi) * u.radian,\n",
    "#                                               rp * u.R_earth, [0.1,0.1]) for\n",
    "#                                              logp, phase, cosi, rp in zip(planets['logP'], planets['phase'], planets['cosi'],\n",
    "#                                                                           planets['r_p'])])"
   ]
  },
  {
   "cell_type": "code",
   "execution_count": 18,
   "id": "f0949d32-36a9-4140-87af-c5b101c5e149",
   "metadata": {},
   "outputs": [
    {
     "data": {
      "text/plain": [
       "Text(0.5, 0, 'Planet Radius [R_earth]')"
      ]
     },
     "execution_count": 18,
     "metadata": {},
     "output_type": "execute_result"
    },
    {
     "data": {
      "image/png": "[encoded data removed]",
      "text/plain": [
       "<Figure size 432x288 with 1 Axes>"
      ]
     },
     "metadata": {
      "needs_background": "light"
     },
     "output_type": "display_data"
    }
   ],
   "source": [
    "n_points_in_transit = planets_df['duration']/(7.5/(24*60))\n",
    "lc_noise = 1e-3\n",
    "rec_r_p = [x.to_value(\"R_earth\") for x in (np.sqrt(planets_df['rec_depth']) * planets_df['r_s']).values]\n",
    "\n",
    "for r_p, depth, rec, r_p_rec, snr, n in zip(planets_df['r_p'], planets_df['depth'],  planets_df['recovered'],rec_r_p,  planets_df['snr'], n_points_in_transit):\n",
    "    if rec == 1.0:\n",
    "        color = \"orange\"\n",
    "    else:\n",
    "        color = \"C0\"\n",
    "        \n",
    "    if r_p_rec == 0.0:\n",
    "        r_p_rec = r_p\n",
    "        snr = depth * np.sqrt(n)/lc_noise\n",
    "    plt.plot([r_p,r_p_rec], [depth * np.sqrt(n)/lc_noise, snr], 'x', color=color, alpha=0.6)\n",
    "    if rec == 1.0:\n",
    "        plt.plot([r_p_rec], [snr], 'x', color='darkred', alpha=0.5)\n",
    "plt.ylabel(\"SNR\")\n",
    "plt.xlabel(\"Planet Radius [R_earth]\")\n",
    "# plot_transitparams(results[4]['r_p'], results[4]['depth'] * np.sqrt(n_points_in_transit)/lc_noise, results[4]['recovered'], xlabel=\"Radius\", ylabel=\"SNR\", zlabel=\"Detected?\", ylims=[], yscale='uniform',\n",
    "#                        xscale='uniform', add_points={}, svname=\"\")"
   ]
  },
  {
   "cell_type": "markdown",
   "id": "06d4414d-e291-4e68-acdc-6cdbf84ec4cb",
   "metadata": {},
   "source": [
    "Print recovery stats:"
   ]
  },
  {
   "cell_type": "code",
   "execution_count": 19,
   "id": "4bed9e66-e1d5-4eed-809a-97183b556c0c",
   "metadata": {},
   "outputs": [
    {
     "name": "stdout",
     "output_type": "stream",
     "text": [
      "Planets recovered: 79.6%\n",
      "Observed Planets recovered: 100.0%\n"
     ]
    }
   ],
   "source": [
    "print(f\"Planets recovered: {100 * len(planets_df.loc[planets_df['recovered'] == 1.0]) /  len(planets_df['recovered'])}%\")\n",
    "print(f\"Observed Planets recovered: {100 * len(planets_df.loc[(planets_df['recovered'] == 1.0) & (planets_df['observed'] == 1.0)]) /  len(planets_df['recovered'][planets_df['observed']==1.0])}%\")"
   ]
  },
  {
   "cell_type": "markdown",
   "id": "072f66e9-3dae-49aa-873f-7b0df5644f27",
   "metadata": {},
   "source": [
    "Plot only the planets which were observed:"
   ]
  },
  {
   "cell_type": "code",
   "execution_count": 20,
   "id": "d336831c-d0e2-4c19-8395-da85100be053",
   "metadata": {},
   "outputs": [
    {
     "name": "stderr",
     "output_type": "stream",
     "text": [
      "No artists with labels found to put in legend.  Note that artists whose label start with an underscore are ignored when legend() is called with no argument.\n"
     ]
    },
    {
     "data": {
      "image/png": "[encoded data removed]",
      "text/plain": [
       "<Figure size 432x432 with 1 Axes>"
      ]
     },
     "metadata": {
      "needs_background": "light"
     },
     "output_type": "display_data"
    }
   ],
   "source": [
    "plot_transitparams(planets_df['r_p'][planets_df['observed'] == 1.0], planets_df['depth'][planets_df['observed'] == 1.0] * np.sqrt(n_points_in_transit[planets_df['observed'] == 1.0])/lc_noise, planets_df['recovered'][planets_df['observed'] == 1.0], xlabel=\"Radius\", ylabel=\"SNR\", zlabel=\"Detected?\", ylims=[], yscale='uniform',\n",
    "                       xscale='uniform', add_points={}, svname=\"\")"
   ]
  },
  {
   "cell_type": "code",
   "execution_count": null,
   "id": "223ff707-774f-4773-8ac7-a86c58441d9a",
   "metadata": {},
   "outputs": [],
   "source": []
  },
  {
   "cell_type": "code",
   "execution_count": 28,
   "id": "2cd70af9-7c1f-4cdc-90b6-7bb7ad410208",
   "metadata": {},
   "outputs": [
    {
     "data": {
      "text/plain": [
       "Text(0, 0.5, 'Radius [R_Earth]')"
      ]
     },
     "execution_count": 28,
     "metadata": {},
     "output_type": "execute_result"
    },
    {
     "data": {
      "image/png": "[encoded data removed]",
      "text/plain": [
       "<Figure size 432x288 with 1 Axes>"
      ]
     },
     "metadata": {
      "needs_background": "light"
     },
     "output_type": "display_data"
    }
   ],
   "source": [
    "per = 10**planets_df['logP']\n",
    "rad = planets_df['r_p']\n",
    "\n",
    "plt.plot(per[planets_df['observed'] == 1.0],rad[planets_df['observed'] == 1.0],\".\",color=\"green\")\n",
    "plt.plot(per[planets_df['observed'] == 0.0],rad[planets_df['observed'] == 0.0],\".\",color=\"red\")\n",
    "\n",
    "plt.xlabel(\"Period [d]\")\n",
    "plt.ylabel(\"Radius [R_Earth]\")"
   ]
  },
  {
   "cell_type": "code",
   "execution_count": null,
   "id": "c946a7f2-c96e-4ee3-ad08-7cf946c4fb1c",
   "metadata": {},
   "outputs": [],
   "source": []
  }
 ],
 "metadata": {
  "kernelspec": {
   "display_name": "Python 3 (ipykernel)",
   "language": "python",
   "name": "python3"
  },
  "language_info": {
   "codemirror_mode": {
    "name": "ipython",
    "version": 3
   },
   "file_extension": ".py",
   "mimetype": "text/x-python",
   "name": "python",
   "nbconvert_exporter": "python",
   "pygments_lexer": "ipython3",
   "version": "3.11.4"
  }
 },
 "nbformat": 4,
 "nbformat_minor": 5
}
