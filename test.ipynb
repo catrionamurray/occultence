{
 "cells": [
  {
   "cell_type": "code",
   "execution_count": 1,
   "id": "c47de5f9-0adb-46fa-8d33-aa43a44b92c2",
   "metadata": {},
   "outputs": [],
   "source": [
    "from occultence import *"
   ]
  },
  {
   "cell_type": "code",
   "execution_count": 23,
   "id": "6335a01f-6c24-4ec0-aaef-7bdf05029542",
   "metadata": {},
   "outputs": [
    {
     "name": "stderr",
     "output_type": "stream",
     "text": [
      "🌈🤖 Warning! The time array is not an astropy.Time object, therefore there is no info about the \n",
      "format or scale.\n",
      "We will assume that it is JD and TDB from here on!\n",
      "\n"
     ]
    }
   ],
   "source": [
    "targ = LightCurve(name = \"test\",\n",
    "                  time = np.linspace(10,11,10),\n",
    "                  flux = np.arange(10)+100,\n",
    "                  uncertainty = np.ones(10))"
   ]
  },
  {
   "cell_type": "code",
   "execution_count": 24,
   "id": "4245e8e3",
   "metadata": {},
   "outputs": [
    {
     "data": {
      "text/plain": [
       "{'_core_dictionaries': ['timelike', 'metadata'],\n",
       " 'metadata': {'name': 'test'},\n",
       " 'timelike': {'time': <Time object: scale='tdb' format='jd' value=[10.         10.11111111 10.22222222 10.33333333 10.44444444 10.55555556\n",
       "   10.66666667 10.77777778 10.88888889 11.        ]>,\n",
       "  'flux': array([100, 101, 102, 103, 104, 105, 106, 107, 108, 109]),\n",
       "  'uncertainty': array([1., 1., 1., 1., 1., 1., 1., 1., 1., 1.])}}"
      ]
     },
     "execution_count": 24,
     "metadata": {},
     "output_type": "execute_result"
    }
   ],
   "source": [
    "targ.__dict__"
   ]
  },
  {
   "cell_type": "code",
   "execution_count": null,
   "id": "be964ea0",
   "metadata": {},
   "outputs": [],
   "source": []
  },
  {
   "cell_type": "code",
   "execution_count": null,
   "id": "5df4fc57",
   "metadata": {},
   "outputs": [],
   "source": []
  },
  {
   "cell_type": "code",
   "execution_count": 25,
   "id": "c25095d3",
   "metadata": {},
   "outputs": [
    {
     "ename": "AttributeError",
     "evalue": "'LightCurve' object has no attribute 'clean'",
     "output_type": "error",
     "traceback": [
      "\u001b[0;31m---------------------------------------------------------------------------\u001b[0m",
      "\u001b[0;31mAttributeError\u001b[0m                            Traceback (most recent call last)",
      "Cell \u001b[0;32mIn[25], line 1\u001b[0m\n\u001b[0;32m----> 1\u001b[0m clean_targ \u001b[38;5;241m=\u001b[39m targ\u001b[38;5;241m.\u001b[39mclean(mask_dust\u001b[38;5;241m=\u001b[39m\u001b[38;5;28;01mFalse\u001b[39;00m, mask_bad_weather\u001b[38;5;241m=\u001b[39m\u001b[38;5;28;01mTrue\u001b[39;00m, mask_cosmics\u001b[38;5;241m=\u001b[39m\u001b[38;5;28;01mTrue\u001b[39;00m)\n",
      "\u001b[0;31mAttributeError\u001b[0m: 'LightCurve' object has no attribute 'clean'"
     ]
    }
   ],
   "source": [
    "clean_targ = targ.clean(mask_dust=False, mask_bad_weather=True, mask_cosmics=True)"
   ]
  },
  {
   "cell_type": "code",
   "execution_count": 8,
   "id": "b15026bd-5d41-4085-aa31-d700380ff084",
   "metadata": {},
   "outputs": [
    {
     "data": {
      "text/plain": [
       "{'_core_dictionaries': ['timelike', 'metadata'],\n",
       " 'metadata': {'name': 'test'},\n",
       " 'timelike': {'time': <Time object: scale='tdb' format='jd' value=[10.         10.11111111 10.22222222 10.33333333 10.44444444 10.55555556\n",
       "   10.66666667 10.77777778 10.88888889 11.        ]>,\n",
       "  'flux': array([100, 101, 102, 103, 104, 105, 106, 107, 108, 109]),\n",
       "  'uncertainty': array([0, 1, 2, 3, 4, 5, 6, 7, 8, 9])}}"
      ]
     },
     "execution_count": 8,
     "metadata": {},
     "output_type": "execute_result"
    }
   ],
   "source": [
    "bin_targ = clean_targ.bin(dt=5*u.minute)\n",
    "gp_targ = bin_targ.gp_detrend(first_sigma_clip=True, second_sigma_clip=True, sigma=3, ...)\n",
    "bls_targ = gp_targ.bls_search(min_period=0.5, max_period=100, transit_duration=[0.1, 0.2, 0.3], ...)```"
   ]
  },
  {
   "cell_type": "code",
   "execution_count": null,
   "id": "20d4a922",
   "metadata": {},
   "outputs": [],
   "source": []
  }
 ],
 "metadata": {
  "kernelspec": {
   "display_name": "Python 3 (ipykernel)",
   "language": "python",
   "name": "python3"
  },
  "language_info": {
   "codemirror_mode": {
    "name": "ipython",
    "version": 3
   },
   "file_extension": ".py",
   "mimetype": "text/x-python",
   "name": "python",
   "nbconvert_exporter": "python",
   "pygments_lexer": "ipython3",
   "version": "3.11.4"
  }
 },
 "nbformat": 4,
 "nbformat_minor": 5
}
